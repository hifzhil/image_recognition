{
 "cells": [
  {
   "cell_type": "code",
   "execution_count": null,
   "id": "e86be3b1-6f37-47a2-871c-d19d87e3aa8d",
   "metadata": {},
   "outputs": [],
   "source": [
    "# from pyimagesearch.localbinarypatterns import LocalBinaryPatterns\n",
    "# from sklearn.svm import LinearSVC\n",
    "# from imutils import paths\n",
    "# import argparse\n",
    "# import cv2\n",
    "# import os\n",
    "# import numpy as np\n",
    "# import the necessary packages\n",
    "from sklearn.neighbors import KNeighborsClassifier\n",
    "from sklearn.model_selection import train_test_split\n",
    "from imutils import paths\n",
    "import numpy as np\n",
    "import argparse\n",
    "import imutils\n",
    "import cv2\n",
    "import os"
   ]
  },
  {
   "cell_type": "code",
   "execution_count": null,
   "id": "503ee7d3-fc54-4640-b61b-f6ea285e80bb",
   "metadata": {},
   "outputs": [],
   "source": [
    "# # construct the argument parse and parse the arguments\n",
    "# ap = argparse.ArgumentParser()\n",
    "# ap.add_argument(\"-d\", \"--dataset\", required=True,\n",
    "# \thelp=\"path to input dataset\")\n",
    "# ap.add_argument(\"-k\", \"--neighbors\", type=int, default=1,\n",
    "# \thelp=\"# of nearest neighbors for classification\")\n",
    "# ap.add_argument(\"-j\", \"--jobs\", type=int, default=-1,\n",
    "# \thelp=\"# of jobs for k-NN distance (-1 uses all available cores)\")\n",
    "# args = vars(ap.parse_args())"
   ]
  },
  {
   "cell_type": "code",
   "execution_count": null,
   "id": "60dca5ca-6004-4d97-96b6-a350eafcc812",
   "metadata": {},
   "outputs": [],
   "source": [
    "def image_to_feature_vector(image, size=(32, 32)):\n",
    "\t# resize the image to a fixed size, then flatten the image into\n",
    "\t# a list of raw pixel intensities\n",
    "\treturn cv2.resize(image, size).flatten()"
   ]
  },
  {
   "cell_type": "code",
   "execution_count": null,
   "id": "4e28e3bf-58e5-486c-8c11-382e9c90cc06",
   "metadata": {},
   "outputs": [],
   "source": [
    "def extract_color_histogram(image, bins=(8, 8, 8)):\n",
    "\t# extract a 3D color histogram from the HSV color space using\n",
    "\t# the supplied number of `bins` per channel\n",
    "\thsv = cv2.cvtColor(image, cv2.COLOR_BGR2HSV)\n",
    "\thist = cv2.calcHist([hsv], [0, 1, 2], None, bins,\n",
    "\t\t[0, 180, 0, 256, 0, 256])\n",
    "\t# handle normalizing the histogram if we are using OpenCV 2.4.X\n",
    "\t# if imutils.is_cv2():\n",
    "\t# \thist = cv2.normalize(hist)\n",
    "\t# # otherwise, perform \"in place\" normalization in OpenCV 3 (I\n",
    "\t# # personally hate the way this is done\n",
    "\t# else:\n",
    "\tcv2.normalize(hist, hist)\n",
    "\t# return the flattened histogram as the feature vector\n",
    "\treturn hist.flatten()"
   ]
  },
  {
   "cell_type": "code",
   "execution_count": null,
   "id": "eeb9724a-5e49-4a7b-9ad0-8b5d7433ae8c",
   "metadata": {},
   "outputs": [],
   "source": [
    "# the data and label lists\n",
    "desc = LocalBinaryPatterns(24, 8)\n",
    "data = []\n",
    "print(\"[INFO] describing images...\")\n",
    "train_dir = \"/home/hifzhil/myWork/DSEC/Dataset/training\"\n",
    "test_dir = \"/home/hifzhil/myWork/PVE/local-binary-patterns_cr/images/testing\"\n",
    "\n",
    "\n",
    "\n",
    "#labels = []"
   ]
  },
  {
   "cell_type": "code",
   "execution_count": null,
   "id": "bffc72f2-881d-4b33-aecd-ce80edfaee37",
   "metadata": {},
   "outputs": [],
   "source": [
    "#for KNN\n",
    "rawImages = []\n",
    "features = []\n",
    "labels = []\n",
    "i = 0\n",
    "for (imagePath) in paths.list_images(train_dir):\n",
    "    # load the image, convert it to grayscale, and describe it\n",
    "    image = cv2.imread(imagePath)\n",
    "    gray = cv2.cvtColor(image, cv2.COLOR_BGR2GRAY)\n",
    "    hist = desc.describe(gray)\n",
    "    \n",
    "    #for KNN\n",
    "    pixels = image_to_feature_vector(image)\n",
    "    hist = extract_color_histogram(image)\n",
    "    # extract the label from the image path, then update the\n",
    "    # label and data lists\n",
    "    labels.append(imagePath.split(os.path.sep)[-2])\n",
    "    #data.append(hist)\n",
    "    rawImages.append(pixels)\n",
    "    features.append(hist)\n",
    "    i+=1\n",
    "    if i > 0 and i % 2 == 0:\n",
    "        print(\"[INFO] processed {}/{}\".format(i, len(imagePath)))\n",
    "# # train a Linear SVM on the data\n",
    "# model = LinearSVC(C=100.0, random_state=42)\n",
    "# model.fit(data, labels)"
   ]
  },
  {
   "cell_type": "code",
   "execution_count": null,
   "id": "6ad1f70e-76f7-4a94-8623-0de1b86ff477",
   "metadata": {},
   "outputs": [],
   "source": [
    "print(labels)"
   ]
  },
  {
   "cell_type": "code",
   "execution_count": null,
   "id": "a4f11540-b9ca-422f-9c06-f234bf51ef0c",
   "metadata": {},
   "outputs": [],
   "source": [
    "rawImages = np.array(rawImages)\n",
    "features = np.array(features)\n",
    "labels = np.array(labels)\n",
    "print(\"[INFO] pixels matrix: {:.2f}MB\".format(\n",
    "\trawImages.nbytes / (1024 * 1000.0)))\n",
    "print(\"[INFO] features matrix: {:.2f}MB\".format(\n",
    "\tfeatures.nbytes / (1024 * 1000.0)))"
   ]
  },
  {
   "cell_type": "code",
   "execution_count": null,
   "id": "25dc2da1-3c7d-4a05-b735-b85cc02fefbc",
   "metadata": {},
   "outputs": [],
   "source": [
    "# partition the data into training and testing splits, using 75%\n",
    "# of the data for training and the remaining 25% for testing\n",
    "(trainRI, testRI, trainRL, testRL) = train_test_split(\n",
    "\trawImages, labels, test_size=0.25, random_state=42)\n",
    "(trainFeat, testFeat, trainLabels, testLabels) = train_test_split(\n",
    "\tfeatures, labels, test_size=0.25, random_state=42)"
   ]
  },
  {
   "cell_type": "code",
   "execution_count": null,
   "id": "80f7b2fa-2970-4eb6-a987-6f97694af9cb",
   "metadata": {},
   "outputs": [],
   "source": [
    "# train and evaluate a k-NN classifer on the raw pixel intensities\n",
    "print(\"[INFO] evaluating raw pixel accuracy...\")\n",
    "model = KNeighborsClassifier(n_neighbors=3,\n",
    "\tn_jobs=-1)\n",
    "model.fit(trainRI, trainRL)\n",
    "acc = model.score(testRI, testRL)\n",
    "print(\"[INFO] raw pixel accuracy: {:.2f}%\".format(acc * 100))"
   ]
  },
  {
   "cell_type": "code",
   "execution_count": null,
   "id": "25331497-2f91-43e4-ae0e-91eaea91a0c9",
   "metadata": {},
   "outputs": [],
   "source": [
    "print(model)"
   ]
  },
  {
   "cell_type": "code",
   "execution_count": null,
   "id": "280044c7-9cac-42d3-a704-74819a183af9",
   "metadata": {},
   "outputs": [],
   "source": [
    "# train and evaluate a k-NN classifer on the histogram\n",
    "# representations\n",
    "print(\"[INFO] evaluating histogram accuracy...\")\n",
    "model = KNeighborsClassifier(n_neighbors=3,\n",
    "\tn_jobs=-1)\n",
    "model.fit(trainFeat, trainLabels)\n",
    "predic_now = model.predict(trainFeat)\n",
    "acc = model.score(testFeat, testLabels)\n",
    "print(\"[INFO] histogram accuracy: {:.2f}%\".format(acc * 100))\n",
    "print(\"[INFO] Prediction : {:.2f}%\".format(predic_now))"
   ]
  },
  {
   "cell_type": "code",
   "execution_count": null,
   "id": "95fb7a29-4300-45dc-890e-98a46ff5c749",
   "metadata": {},
   "outputs": [],
   "source": [
    "for imagePath in paths.list_images(train_dir):\n",
    "\t# load the image, convert it to grayscale, describe it,\n",
    "\t# and classify it\n",
    "\timage = cv2.imread(imagePath)\n",
    "\tgray = cv2.cvtColor(image, cv2.COLOR_BGR2GRAY)\n",
    "\t#hist = desc.describe(gray)\n",
    "\tprediction = model.predict(trainFeat)\n",
    "\n",
    "\t# display the image and the prediction\n",
    "\tcv2.putText(image, prediction[0], (10, 30), cv2.FONT_HERSHEY_SIMPLEX,\n",
    "\t\t1.0, (0, 0, 255), 3)\n",
    "\tcv2.imshow(\"Image\", image)\n",
    "\tcv2.waitKey(0)"
   ]
  },
  {
   "cell_type": "code",
   "execution_count": null,
   "id": "a66028b8-fc04-4409-9c32-61fd6a786829",
   "metadata": {},
   "outputs": [],
   "source": [
    "print(hist)"
   ]
  },
  {
   "cell_type": "code",
   "execution_count": null,
   "id": "982edac1-301c-4ebe-bdb1-d9c6a64568cc",
   "metadata": {},
   "outputs": [],
   "source": []
  }
 ],
 "metadata": {
  "kernelspec": {
   "display_name": "Python 3 (ipykernel)",
   "language": "python",
   "name": "python3"
  },
  "language_info": {
   "codemirror_mode": {
    "name": "ipython",
    "version": 3
   },
   "file_extension": ".py",
   "mimetype": "text/x-python",
   "name": "python",
   "nbconvert_exporter": "python",
   "pygments_lexer": "ipython3",
   "version": "3.12.0"
  }
 },
 "nbformat": 4,
 "nbformat_minor": 5
}
